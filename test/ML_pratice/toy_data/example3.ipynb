{
 "cells": [
  {
   "cell_type": "markdown",
   "metadata": {},
   "source": [
    "# 1. Tensorflow test"
   ]
  },
  {
   "cell_type": "code",
   "execution_count": 1,
   "metadata": {
    "collapsed": true
   },
   "outputs": [],
   "source": [
    "import tensorflow as tf"
   ]
  },
  {
   "cell_type": "code",
   "execution_count": 2,
   "metadata": {},
   "outputs": [
    {
     "name": "stdout",
     "output_type": "stream",
     "text": [
      "Tensor(\"Const:0\", shape=(), dtype=string)\n"
     ]
    }
   ],
   "source": [
    "hello = tf.constant('Hello tensorflow')\n",
    "print(hello)"
   ]
  },
  {
   "cell_type": "code",
   "execution_count": 3,
   "metadata": {},
   "outputs": [
    {
     "name": "stdout",
     "output_type": "stream",
     "text": [
      "Tensor(\"Add:0\", shape=(), dtype=int32)\n"
     ]
    }
   ],
   "source": [
    "a = tf.constant(10)\n",
    "b = tf.constant(32)\n",
    "c = tf.add(a, b)\n",
    "print(c)"
   ]
  },
  {
   "cell_type": "code",
   "execution_count": 4,
   "metadata": {},
   "outputs": [
    {
     "name": "stdout",
     "output_type": "stream",
     "text": [
      "b'Hello tensorflow'\n",
      "[10, 32, 42]\n"
     ]
    }
   ],
   "source": [
    "sess = tf.Session()\n",
    "print(sess.run(hello))\n",
    "print(sess.run([a,b,c]))\n",
    "sess.close()"
   ]
  },
  {
   "cell_type": "code",
   "execution_count": 5,
   "metadata": {},
   "outputs": [
    {
     "name": "stdout",
     "output_type": "stream",
     "text": [
      "Tensor(\"Placeholder:0\", shape=(?, 3), dtype=float32)\n"
     ]
    }
   ],
   "source": [
    "X = tf.placeholder(tf.float32, [None, 3])\n",
    "print(X)"
   ]
  },
  {
   "cell_type": "code",
   "execution_count": 6,
   "metadata": {
    "collapsed": true
   },
   "outputs": [],
   "source": [
    "x_data = [[1,2,3], [4,5,6]]"
   ]
  },
  {
   "cell_type": "code",
   "execution_count": 7,
   "metadata": {},
   "outputs": [
    {
     "data": {
      "text/plain": [
       "[[1, 2, 3], [4, 5, 6]]"
      ]
     },
     "execution_count": 7,
     "metadata": {},
     "output_type": "execute_result"
    }
   ],
   "source": [
    "x_data"
   ]
  },
  {
   "cell_type": "code",
   "execution_count": 8,
   "metadata": {
    "collapsed": true
   },
   "outputs": [],
   "source": [
    "W = tf.Variable(tf.random_normal([3,2]))\n",
    "b = tf.Variable(tf.random_normal([2,1]))"
   ]
  },
  {
   "cell_type": "code",
   "execution_count": 9,
   "metadata": {
    "collapsed": true
   },
   "outputs": [],
   "source": [
    "expr = tf.matmul(X, W) + b"
   ]
  },
  {
   "cell_type": "code",
   "execution_count": 11,
   "metadata": {},
   "outputs": [
    {
     "name": "stdout",
     "output_type": "stream",
     "text": [
      "=== x_data ===\n",
      "[[1, 2, 3], [4, 5, 6]]\n",
      "=== W ===\n",
      "[[ 0.98480171 -0.03968684]\n",
      " [ 1.03819466 -0.57523274]\n",
      " [-0.58592558  1.36379087]]\n",
      "=== b ===\n",
      "[[ 0.28378397]\n",
      " [-1.8320415 ]]\n",
      "=== expr ===\n",
      "[[ 1.58719826  3.18500423]\n",
      " [ 3.78258538  3.31579232]]\n"
     ]
    }
   ],
   "source": [
    "sess = tf.Session()\n",
    "sess.run(tf.global_variables_initializer())\n",
    "\n",
    "print('=== x_data ===')\n",
    "print(x_data)\n",
    "print('=== W ===')\n",
    "print(sess.run(W))\n",
    "print('=== b ===')\n",
    "print(sess.run(b))\n",
    "print('=== expr ===')\n",
    "print(sess.run(expr, feed_dict={X: x_data}))"
   ]
  },
  {
   "cell_type": "code",
   "execution_count": 27,
   "metadata": {
    "collapsed": true
   },
   "outputs": [],
   "source": [
    "sess.close()"
   ]
  },
  {
   "cell_type": "code",
   "execution_count": null,
   "metadata": {
    "collapsed": true
   },
   "outputs": [],
   "source": []
  },
  {
   "cell_type": "markdown",
   "metadata": {},
   "source": [
    "# 2. Linear Regression by tensorflow"
   ]
  },
  {
   "cell_type": "code",
   "execution_count": 28,
   "metadata": {
    "collapsed": true
   },
   "outputs": [],
   "source": [
    "x_data = [1,2,3]\n",
    "y_data = [1,2,3]"
   ]
  },
  {
   "cell_type": "code",
   "execution_count": 29,
   "metadata": {},
   "outputs": [],
   "source": [
    "W = tf.Variable(tf.random_uniform([1], -1.0, 1.0))\n",
    "b = tf.Variable(tf.random_uniform([1], -1.0, 1.0))"
   ]
  },
  {
   "cell_type": "code",
   "execution_count": 30,
   "metadata": {
    "collapsed": true
   },
   "outputs": [],
   "source": [
    "X = tf.placeholder(tf.float32, name=\"X\")\n",
    "Y = tf.placeholder(tf.float32, name=\"Y\")"
   ]
  },
  {
   "cell_type": "code",
   "execution_count": 31,
   "metadata": {},
   "outputs": [
    {
     "data": {
      "text/plain": [
       "<tensorflow.python.ops.variables.Variable at 0x7fd4a534b4e0>"
      ]
     },
     "execution_count": 31,
     "metadata": {},
     "output_type": "execute_result"
    }
   ],
   "source": [
    "W"
   ]
  },
  {
   "cell_type": "code",
   "execution_count": 32,
   "metadata": {},
   "outputs": [],
   "source": [
    "hypothesis = W * X + b"
   ]
  },
  {
   "cell_type": "code",
   "execution_count": 33,
   "metadata": {},
   "outputs": [],
   "source": [
    "cost = tf.reduce_mean(tf.square(hypothesis - Y))"
   ]
  },
  {
   "cell_type": "code",
   "execution_count": 34,
   "metadata": {
    "collapsed": true
   },
   "outputs": [],
   "source": [
    "optimizer = tf.train.GradientDescentOptimizer(learning_rate=0.1)\n",
    "train_op = optimizer.minimize(cost)"
   ]
  },
  {
   "cell_type": "code",
   "execution_count": 41,
   "metadata": {},
   "outputs": [
    {
     "name": "stdout",
     "output_type": "stream",
     "text": [
      "0 0.286902 [ 0.88635105] [ 0.31851855]\n",
      "1 0.0169319 [ 0.86501598] [ 0.3002744]\n",
      "2 0.0130656 [ 0.87089133] [ 0.29421315]\n",
      "3 0.0124084 [ 0.87370753] [ 0.28701401]\n",
      "4 0.0118186 [ 0.87677491] [ 0.28012818]\n",
      "5 0.0112571 [ 0.87973368] [ 0.27339256]\n",
      "6 0.0107224 [ 0.88262516] [ 0.26682058]\n",
      "7 0.0102131 [ 0.88544673] [ 0.26040637]\n",
      "8 0.00972797 [ 0.88820058] [ 0.2541464]\n",
      "9 0.0092659 [ 0.89088815] [ 0.24803688]\n",
      "10 0.00882576 [ 0.89351112] [ 0.24207424]\n",
      "11 0.00840652 [ 0.89607108] [ 0.23625495]\n",
      "12 0.0080072 [ 0.89856941] [ 0.23057552]\n",
      "13 0.00762685 [ 0.90100777] [ 0.22503266]\n",
      "14 0.00726458 [ 0.90338749] [ 0.21962301]\n",
      "15 0.00691951 [ 0.90570998] [ 0.21434341]\n",
      "16 0.00659083 [ 0.90797669] [ 0.20919076]\n",
      "17 0.00627775 [ 0.91018879] [ 0.20416193]\n",
      "18 0.00597955 [ 0.91234779] [ 0.19925402]\n",
      "19 0.00569552 [ 0.91445488] [ 0.1944641]\n",
      "20 0.00542498 [ 0.91651136] [ 0.18978932]\n",
      "21 0.00516729 [ 0.91851836] [ 0.1852269]\n",
      "22 0.00492183 [ 0.92047715] [ 0.18077418]\n",
      "23 0.00468805 [ 0.92238879] [ 0.17642848]\n",
      "24 0.00446536 [ 0.92425448] [ 0.17218727]\n",
      "25 0.00425325 [ 0.9260754] [ 0.16804802]\n",
      "26 0.00405122 [ 0.92785245] [ 0.16400826]\n",
      "27 0.00385879 [ 0.92958689] [ 0.16006562]\n",
      "28 0.00367549 [ 0.93127954] [ 0.15621774]\n",
      "29 0.0035009 [ 0.93293154] [ 0.15246238]\n",
      "30 0.0033346 [ 0.93454379] [ 0.14879726]\n",
      "31 0.00317621 [ 0.93611735] [ 0.14522031]\n",
      "32 0.00302535 [ 0.93765306] [ 0.14172931]\n",
      "33 0.00288163 [ 0.93915182] [ 0.13832222]\n",
      "34 0.00274475 [ 0.94061458] [ 0.13499705]\n",
      "35 0.00261438 [ 0.94204217] [ 0.13175181]\n",
      "36 0.00249019 [ 0.94343543] [ 0.12858456]\n",
      "37 0.00237191 [ 0.94479519] [ 0.12549347]\n",
      "38 0.00225923 [ 0.94612229] [ 0.12247669]\n",
      "39 0.00215192 [ 0.9474175] [ 0.11953244]\n",
      "40 0.00204971 [ 0.94868153] [ 0.11665897]\n",
      "41 0.00195234 [ 0.94991517] [ 0.11385456]\n",
      "42 0.0018596 [ 0.95111918] [ 0.11111757]\n",
      "43 0.00177127 [ 0.95229423] [ 0.10844637]\n",
      "44 0.00168714 [ 0.95344108] [ 0.10583942]\n",
      "45 0.00160699 [ 0.95456028] [ 0.1032951]\n",
      "46 0.00153066 [ 0.95565265] [ 0.10081197]\n",
      "47 0.00145796 [ 0.95671874] [ 0.09838851]\n",
      "48 0.0013887 [ 0.9577592] [ 0.09602331]\n",
      "49 0.00132273 [ 0.95877463] [ 0.09371497]\n",
      "50 0.00125991 [ 0.95976561] [ 0.09146211]\n",
      "51 0.00120006 [ 0.96073288] [ 0.08926345]\n",
      "52 0.00114306 [ 0.96167684] [ 0.0871176]\n",
      "53 0.00108876 [ 0.96259809] [ 0.08502334]\n",
      "54 0.00103704 [ 0.96349716] [ 0.08297943]\n",
      "55 0.000987781 [ 0.96437472] [ 0.08098467]\n",
      "56 0.000940862 [ 0.96523112] [ 0.07903786]\n",
      "57 0.000896168 [ 0.96606696] [ 0.07713785]\n",
      "58 0.000853596 [ 0.96688259] [ 0.07528348]\n",
      "59 0.000813056 [ 0.96767879] [ 0.07347374]\n",
      "60 0.000774432 [ 0.96845579] [ 0.07170749]\n",
      "61 0.000737646 [ 0.96921408] [ 0.06998368]\n",
      "62 0.000702607 [ 0.96995407] [ 0.0683013]\n",
      "63 0.000669233 [ 0.97067642] [ 0.06665941]\n",
      "64 0.000637445 [ 0.97138131] [ 0.06505696]\n",
      "65 0.000607162 [ 0.97206926] [ 0.06349303]\n",
      "66 0.000578324 [ 0.97274077] [ 0.06196672]\n",
      "67 0.000550854 [ 0.973396] [ 0.06047707]\n",
      "68 0.00052469 [ 0.97403556] [ 0.05902325]\n",
      "69 0.000499764 [ 0.97465974] [ 0.05760438]\n",
      "70 0.000476026 [ 0.9752689] [ 0.05621961]\n",
      "71 0.000453415 [ 0.9758634] [ 0.05486812]\n",
      "72 0.000431877 [ 0.97644365] [ 0.05354913]\n",
      "73 0.000411365 [ 0.97700995] [ 0.05226186]\n",
      "74 0.000391824 [ 0.97756261] [ 0.05100551]\n",
      "75 0.00037321 [ 0.97810197] [ 0.04977936]\n",
      "76 0.000355483 [ 0.97862834] [ 0.04858269]\n",
      "77 0.000338597 [ 0.97914213] [ 0.04741481]\n",
      "78 0.000322515 [ 0.97964358] [ 0.04627499]\n",
      "79 0.000307194 [ 0.98013294] [ 0.04516257]\n",
      "80 0.000292602 [ 0.98061049] [ 0.04407688]\n",
      "81 0.000278702 [ 0.9810766] [ 0.04301729]\n",
      "82 0.000265464 [ 0.9815315] [ 0.04198319]\n",
      "83 0.000252857 [ 0.98197556] [ 0.04097397]\n",
      "84 0.000240845 [ 0.98240882] [ 0.03998895]\n",
      "85 0.000229402 [ 0.98283166] [ 0.03902764]\n",
      "86 0.000218506 [ 0.98324442] [ 0.03808945]\n",
      "87 0.000208126 [ 0.98364717] [ 0.03717379]\n",
      "88 0.000198241 [ 0.98404026] [ 0.03628016]\n",
      "89 0.000188824 [ 0.98442394] [ 0.03540802]\n",
      "90 0.000179854 [ 0.98479837] [ 0.03455685]\n",
      "91 0.000171311 [ 0.98516387] [ 0.03372614]\n",
      "92 0.000163174 [ 0.98552048] [ 0.03291537]\n",
      "93 0.000155423 [ 0.98586851] [ 0.0321241]\n",
      "94 0.000148041 [ 0.98620826] [ 0.03135187]\n",
      "95 0.000141009 [ 0.98653978] [ 0.03059819]\n",
      "96 0.000134312 [ 0.98686337] [ 0.02986263]\n",
      "97 0.000127931 [ 0.98717916] [ 0.02914476]\n",
      "98 0.000121855 [ 0.98748738] [ 0.02844415]\n",
      "99 0.000116066 [ 0.9877882] [ 0.02776037]\n",
      "X:5, Y: [ 4.96670151]\n",
      "X:2.5, Y: [ 2.49723077]\n"
     ]
    }
   ],
   "source": [
    "with tf.Session() as sess:\n",
    "    sess.run(tf.global_variables_initializer())\n",
    "    for step in range(100):\n",
    "        _, cost_val = sess.run([train_op, cost], feed_dict={X: x_data, Y: y_data})\n",
    "        print(step, cost_val, sess.run(W), sess.run(b))\n",
    "    \n",
    "    print('X:5, Y:', sess.run(hypothesis, feed_dict={X:5}))\n",
    "    print('X:2.5, Y:', sess.run(hypothesis, feed_dict={X:2.5}))"
   ]
  },
  {
   "cell_type": "code",
   "execution_count": null,
   "metadata": {
    "collapsed": true
   },
   "outputs": [],
   "source": []
  }
 ],
 "metadata": {
  "kernelspec": {
   "display_name": "Python [conda root]",
   "language": "python",
   "name": "conda-root-py"
  },
  "language_info": {
   "codemirror_mode": {
    "name": "ipython",
    "version": 3
   },
   "file_extension": ".py",
   "mimetype": "text/x-python",
   "name": "python",
   "nbconvert_exporter": "python",
   "pygments_lexer": "ipython3",
   "version": "3.5.3"
  }
 },
 "nbformat": 4,
 "nbformat_minor": 2
}
