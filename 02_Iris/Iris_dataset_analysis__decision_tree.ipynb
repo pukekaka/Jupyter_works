{
 "cells": [
  {
   "cell_type": "code",
   "execution_count": 2,
   "metadata": {
    "collapsed": true
   },
   "outputs": [],
   "source": [
    "import iris as ir"
   ]
  },
  {
   "cell_type": "code",
   "execution_count": 24,
   "metadata": {
    "collapsed": true
   },
   "outputs": [],
   "source": [
    "from sklearn.model_selection import train_test_split\n",
    "from sklearn.model_selection import cross_val_score"
   ]
  },
  {
   "cell_type": "code",
   "execution_count": 25,
   "metadata": {},
   "outputs": [
    {
     "name": "stdout",
     "output_type": "stream",
     "text": [
      "-- iris.csv found locally\n"
     ]
    }
   ],
   "source": [
    "df = ir.get_iris_data()"
   ]
  },
  {
   "cell_type": "code",
   "execution_count": 27,
   "metadata": {
    "scrolled": false
   },
   "outputs": [
    {
     "data": {
      "text/plain": [
       "(150, 5)"
      ]
     },
     "execution_count": 27,
     "metadata": {},
     "output_type": "execute_result"
    }
   ],
   "source": [
    "df.shape"
   ]
  },
  {
   "cell_type": "code",
   "execution_count": 5,
   "metadata": {},
   "outputs": [
    {
     "data": {
      "text/html": [
       "<div>\n",
       "<style>\n",
       "    .dataframe thead tr:only-child th {\n",
       "        text-align: right;\n",
       "    }\n",
       "\n",
       "    .dataframe thead th {\n",
       "        text-align: left;\n",
       "    }\n",
       "\n",
       "    .dataframe tbody tr th {\n",
       "        vertical-align: top;\n",
       "    }\n",
       "</style>\n",
       "<table border=\"1\" class=\"dataframe\">\n",
       "  <thead>\n",
       "    <tr style=\"text-align: right;\">\n",
       "      <th></th>\n",
       "      <th>SepalLength</th>\n",
       "      <th>SepalWidth</th>\n",
       "      <th>PetalLength</th>\n",
       "      <th>PetalWidth</th>\n",
       "      <th>Name</th>\n",
       "    </tr>\n",
       "  </thead>\n",
       "  <tbody>\n",
       "    <tr>\n",
       "      <th>0</th>\n",
       "      <td>5.1</td>\n",
       "      <td>3.5</td>\n",
       "      <td>1.4</td>\n",
       "      <td>0.2</td>\n",
       "      <td>Iris-setosa</td>\n",
       "    </tr>\n",
       "    <tr>\n",
       "      <th>1</th>\n",
       "      <td>4.9</td>\n",
       "      <td>3.0</td>\n",
       "      <td>1.4</td>\n",
       "      <td>0.2</td>\n",
       "      <td>Iris-setosa</td>\n",
       "    </tr>\n",
       "    <tr>\n",
       "      <th>2</th>\n",
       "      <td>4.7</td>\n",
       "      <td>3.2</td>\n",
       "      <td>1.3</td>\n",
       "      <td>0.2</td>\n",
       "      <td>Iris-setosa</td>\n",
       "    </tr>\n",
       "    <tr>\n",
       "      <th>3</th>\n",
       "      <td>4.6</td>\n",
       "      <td>3.1</td>\n",
       "      <td>1.5</td>\n",
       "      <td>0.2</td>\n",
       "      <td>Iris-setosa</td>\n",
       "    </tr>\n",
       "    <tr>\n",
       "      <th>4</th>\n",
       "      <td>5.0</td>\n",
       "      <td>3.6</td>\n",
       "      <td>1.4</td>\n",
       "      <td>0.2</td>\n",
       "      <td>Iris-setosa</td>\n",
       "    </tr>\n",
       "  </tbody>\n",
       "</table>\n",
       "</div>"
      ],
      "text/plain": [
       "   SepalLength  SepalWidth  PetalLength  PetalWidth         Name\n",
       "0          5.1         3.5          1.4         0.2  Iris-setosa\n",
       "1          4.9         3.0          1.4         0.2  Iris-setosa\n",
       "2          4.7         3.2          1.3         0.2  Iris-setosa\n",
       "3          4.6         3.1          1.5         0.2  Iris-setosa\n",
       "4          5.0         3.6          1.4         0.2  Iris-setosa"
      ]
     },
     "execution_count": 5,
     "metadata": {},
     "output_type": "execute_result"
    }
   ],
   "source": [
    "df.head()"
   ]
  },
  {
   "cell_type": "code",
   "execution_count": 28,
   "metadata": {},
   "outputs": [
    {
     "data": {
      "text/plain": [
       "Index(['SepalLength', 'SepalWidth', 'PetalLength', 'PetalWidth', 'Name'], dtype='object')"
      ]
     },
     "execution_count": 28,
     "metadata": {},
     "output_type": "execute_result"
    }
   ],
   "source": [
    "df.columns"
   ]
  },
  {
   "cell_type": "code",
   "execution_count": 29,
   "metadata": {
    "collapsed": true
   },
   "outputs": [],
   "source": [
    "features = list(df.columns[:4])"
   ]
  },
  {
   "cell_type": "code",
   "execution_count": 30,
   "metadata": {},
   "outputs": [
    {
     "data": {
      "text/plain": [
       "['SepalLength', 'SepalWidth', 'PetalLength', 'PetalWidth']"
      ]
     },
     "execution_count": 30,
     "metadata": {},
     "output_type": "execute_result"
    }
   ],
   "source": [
    "features"
   ]
  },
  {
   "cell_type": "code",
   "execution_count": 31,
   "metadata": {
    "collapsed": true
   },
   "outputs": [],
   "source": [
    "df, targets = ir.encode_target(df, \"Name\")"
   ]
  },
  {
   "cell_type": "code",
   "execution_count": 32,
   "metadata": {
    "collapsed": true
   },
   "outputs": [],
   "source": [
    "y = df[\"Target\"]"
   ]
  },
  {
   "cell_type": "code",
   "execution_count": 33,
   "metadata": {
    "collapsed": true
   },
   "outputs": [],
   "source": [
    "X = df[features]"
   ]
  },
  {
   "cell_type": "code",
   "execution_count": 34,
   "metadata": {
    "collapsed": true
   },
   "outputs": [],
   "source": [
    "X_train, X_test, y_train, y_test = train_test_split(df[features], df[\"Target\"], random_state=0)"
   ]
  },
  {
   "cell_type": "code",
   "execution_count": 39,
   "metadata": {},
   "outputs": [
    {
     "data": {
      "text/plain": [
       "DecisionTreeClassifier(class_weight=None, criterion='gini', max_depth=None,\n",
       "            max_features=None, max_leaf_nodes=None,\n",
       "            min_impurity_split=1e-07, min_samples_leaf=1,\n",
       "            min_samples_split=20, min_weight_fraction_leaf=0.0,\n",
       "            presort=False, random_state=99, splitter='best')"
      ]
     },
     "execution_count": 39,
     "metadata": {},
     "output_type": "execute_result"
    }
   ],
   "source": [
    "dt = ir.DecisionTreeClassifier(min_samples_split=20, random_state=99)\n",
    "dt.fit(X_train, y_train)"
   ]
  },
  {
   "cell_type": "code",
   "execution_count": 48,
   "metadata": {},
   "outputs": [
    {
     "name": "stdout",
     "output_type": "stream",
     "text": [
      "cross_val_score(3-fold): 0.960\n",
      "cross_val_score(4-fold_means): 0.960\n",
      "cross_val_score(5-fold_means): 0.967\n",
      "cross_val_score(6-fold_means): 0.959\n",
      "cross_val_score(20-fold-means: 0.956\n",
      "cross_val_score(10-fold_means): 0.960\n"
     ]
    }
   ],
   "source": [
    "scores3 = cross_val_score(dt, df[features], df[\"Target\"])\n",
    "print(\"cross_val_score(3-fold): {:.3f}\".format(scores3.mean()))\n",
    "\n",
    "scores4 = cross_val_score(dt, df[features], df[\"Target\"], cv=4)\n",
    "print(\"cross_val_score(4-fold_means): {:.3f}\".format(scores4.mean()))\n",
    "\n",
    "scores5_mean = cross_val_score(dt, df[features], df[\"Target\"], cv=5)\n",
    "print(\"cross_val_score(5-fold_means): {:.3f}\".format(scores5_mean.mean()))\n",
    "\n",
    "scores6_mean = cross_val_score(dt, df[features], df[\"Target\"], cv=6)\n",
    "print(\"cross_val_score(6-fold_means): {:.3f}\".format(scores6_mean.mean()))\n",
    "\n",
    "scores10_mean = cross_val_score(dt, df[features], df[\"Target\"], cv=10)\n",
    "print(\"cross_val_score(10-fold_means): {:.3f}\".format(scores10_mean.mean()))\n",
    "\n",
    "scores20_mean = cross_val_score(dt, df[features], df[\"Target\"], cv=20)\n",
    "print(\"cross_val_score(20-fold-means: {:.3f}\".format(scores20_mean.mean()))\n",
    "\n"
   ]
  },
  {
   "cell_type": "code",
   "execution_count": 53,
   "metadata": {},
   "outputs": [
    {
     "name": "stdout",
     "output_type": "stream",
     "text": [
      "cross_val_score(3-fold_means): 0.960\n",
      "cross_val_score(4-fold_means): 0.960\n",
      "cross_val_score(5-fold_means): 0.967\n",
      "cross_val_score(6-fold_means): 0.959\n",
      "cross_val_score(10-fold_means): 0.960\n",
      "cross_val_score(20-fold-means): 0.956\n",
      "cross_val_score(30-fold-means): 0.956\n"
     ]
    }
   ],
   "source": [
    "scores3 = cross_val_score(dt, df[features], df[\"Target\"])\n",
    "print(\"cross_val_score(3-fold_means): {:.3f}\".format(scores3.mean()))\n",
    "\n",
    "scores4 = cross_val_score(dt, df[features], df[\"Target\"], cv=4)\n",
    "print(\"cross_val_score(4-fold_means): {:.3f}\".format(scores4.mean()))\n",
    "\n",
    "scores5_mean = cross_val_score(dt, df[features], df[\"Target\"], cv=5)\n",
    "print(\"cross_val_score(5-fold_means): {:.3f}\".format(scores5_mean.mean()))\n",
    "\n",
    "scores6_mean = cross_val_score(dt, df[features], df[\"Target\"], cv=6)\n",
    "print(\"cross_val_score(6-fold_means): {:.3f}\".format(scores6_mean.mean()))\n",
    "\n",
    "scores10_mean = cross_val_score(dt, df[features], df[\"Target\"], cv=10)\n",
    "print(\"cross_val_score(10-fold_means): {:.3f}\".format(scores10_mean.mean()))\n",
    "\n",
    "scores20_mean = cross_val_score(dt, df[features], df[\"Target\"], cv=20)\n",
    "print(\"cross_val_score(20-fold-means): {:.3f}\".format(scores20_mean.mean()))\n",
    "\n",
    "scores30_mean = cross_val_score(dt, df[features], df[\"Target\"], cv=30)\n",
    "print(\"cross_val_score(30-fold-means): {:.3f}\".format(scores30_mean.mean()))"
   ]
  },
  {
   "cell_type": "code",
   "execution_count": null,
   "metadata": {
    "collapsed": true
   },
   "outputs": [],
   "source": [
    "print('test')"
   ]
  },
  {
   "cell_type": "code",
   "execution_count": null,
   "metadata": {
    "collapsed": true
   },
   "outputs": [],
   "source": []
  }
 ],
 "metadata": {
  "kernelspec": {
   "display_name": "Python [conda root]",
   "language": "python",
   "name": "conda-root-py"
  },
  "language_info": {
   "codemirror_mode": {
    "name": "ipython",
    "version": 3
   },
   "file_extension": ".py",
   "mimetype": "text/x-python",
   "name": "python",
   "nbconvert_exporter": "python",
   "pygments_lexer": "ipython3",
   "version": "3.5.3"
  }
 },
 "nbformat": 4,
 "nbformat_minor": 2
}
