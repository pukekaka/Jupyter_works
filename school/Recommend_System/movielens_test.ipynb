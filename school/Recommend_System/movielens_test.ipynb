{
 "cells": [
  {
   "cell_type": "code",
   "execution_count": 1,
   "metadata": {
    "collapsed": true
   },
   "outputs": [],
   "source": [
    "import codecs\n",
    "import numpy as np\n",
    "from scipy import stats\n",
    "from matplotlib import pyplot as plt\n",
    "from sklearn.metrics import mean_squared_error"
   ]
  },
  {
   "cell_type": "code",
   "execution_count": 2,
   "metadata": {
    "collapsed": true
   },
   "outputs": [],
   "source": [
    "def read_data(fin, delim):\n",
    "    info_li = []\n",
    "\n",
    "    for line in codecs.open(fin,\"r\",encoding=\"latin-1\"):\n",
    "        line_items = line.strip().split(delim)\n",
    "        #print(line_items)\n",
    "\n",
    "        key = int(line_items[0])\n",
    "        if (len(info_li)+1)!=key:\n",
    "            print('errors at data_id')\n",
    "            exit(0)\n",
    "        info_li.append(line_items[1:])\n",
    "        \n",
    "    print('rows in %s: %d'%(fin, len(info_li)))\n",
    "\n",
    "\n",
    "    return(info_li)"
   ]
  },
  {
   "cell_type": "code",
   "execution_count": 3,
   "metadata": {
    "collapsed": true
   },
   "outputs": [],
   "source": [
    "fin_user= \"u.user\"\n",
    "fin_movie= \"u.item\"\n",
    "fin_rating= \"u.data\""
   ]
  },
  {
   "cell_type": "code",
   "execution_count": 4,
   "metadata": {},
   "outputs": [
    {
     "name": "stdout",
     "output_type": "stream",
     "text": [
      "rows in u.user: 943\n",
      "rows in u.item: 1682\n"
     ]
    }
   ],
   "source": [
    "user_info_li = read_data(fin_user,'|')\n",
    "movie_info_li = read_data(fin_movie,'|')"
   ]
  },
  {
   "cell_type": "code",
   "execution_count": 5,
   "metadata": {
    "collapsed": true
   },
   "outputs": [],
   "source": [
    "def read_rating_data(fin):\n",
    "\n",
    "    Q = np.zeros((len(user_info_li), len(movie_info_li)), dtype=np.float64)\n",
    "\n",
    "    for line in open(fin):\n",
    "        user, movie, rating, date = line.strip().split(\"\\t\")\n",
    "        user_index = int(user)-1\n",
    "        movie_index = int(movie)-1\n",
    "\n",
    "        Q[user_index,movie_index]= float(rating)\n",
    "\n",
    "    return(Q)"
   ]
  },
  {
   "cell_type": "code",
   "execution_count": 6,
   "metadata": {
    "collapsed": true
   },
   "outputs": [],
   "source": [
    "R=read_rating_data(fin_rating)"
   ]
  },
  {
   "cell_type": "code",
   "execution_count": 7,
   "metadata": {
    "collapsed": true
   },
   "outputs": [],
   "source": [
    "user_mean_li=[]\n",
    "for i in range(0,R.shape[0]):\n",
    "    user_rating = [x for x in R[i] if x>0.0]\n",
    "    user_mean_li.append(stats.describe(user_rating).mean)"
   ]
  },
  {
   "cell_type": "code",
   "execution_count": 8,
   "metadata": {},
   "outputs": [
    {
     "data": {
      "text/plain": [
       "DescribeResult(nobs=943, minmax=(1.4919540229885058, 4.8695652173913047), mean=3.5881911071848003, variance=0.19823286521146211, skewness=-0.44416521432016465, kurtosis=0.9286813229088393)"
      ]
     },
     "execution_count": 8,
     "metadata": {},
     "output_type": "execute_result"
    }
   ],
   "source": [
    "stats.describe(user_mean_li)"
   ]
  },
  {
   "cell_type": "code",
   "execution_count": 9,
   "metadata": {},
   "outputs": [
    {
     "name": "stderr",
     "output_type": "stream",
     "text": [
      "/home/pukekakaster/app/anaconda3/lib/python3.5/site-packages/numpy/core/fromnumeric.py:3146: RuntimeWarning: Degrees of freedom <= 0 for slice\n",
      "  **kwargs)\n",
      "/home/pukekakaster/app/anaconda3/lib/python3.5/site-packages/numpy/core/_methods.py:127: RuntimeWarning: invalid value encountered in double_scalars\n",
      "  ret = ret.dtype.type(ret / rcount)\n"
     ]
    }
   ],
   "source": [
    "movie_mean_li=[]\n",
    "for i in range(0,R.shape[1]):\n",
    "    R_T = R.T\n",
    "    movie_rating = [x for x in R_T[i] if x>0.0]\n",
    "    movie_mean_li.append(stats.describe(movie_rating).mean)"
   ]
  },
  {
   "cell_type": "code",
   "execution_count": 10,
   "metadata": {},
   "outputs": [
    {
     "data": {
      "text/plain": [
       "DescribeResult(nobs=1682, minmax=(1.0, 5.0), mean=3.0760445083251788, variance=0.61099475027975136, skewness=-0.6991282361538707, kurtosis=0.4442028070725441)"
      ]
     },
     "execution_count": 10,
     "metadata": {},
     "output_type": "execute_result"
    }
   ],
   "source": [
    "stats.describe(movie_mean_li)"
   ]
  },
  {
   "cell_type": "code",
   "execution_count": 11,
   "metadata": {
    "collapsed": true
   },
   "outputs": [],
   "source": [
    "def compute_GD(R,n_iter, lambda_, learning_rate, k):\n",
    "    m,n =R.shape\n",
    "    errors=[]\n",
    "        \n",
    "    X = np.random.rand(m, k)\n",
    "    Y = np.random.rand(k, n)\n",
    "    \n",
    "    for ii in range(n_iter):\n",
    "        for u in range(m):\n",
    "            for i in range(n):\n",
    "                if R[u,i]>0:\n",
    "                    e_ui = R[u,i]-np.dot(X[u, :], Y[:,i])\n",
    "\n",
    "                    X[u,:] = X[u,:] + learning_rate * (e_ui* Y[:,i] - lambda_ * X[u,:])\n",
    "                    Y[:,i] = Y[:,i] + learning_rate * (e_ui * X[u,:] - lambda_ * Y[:,i])  \n",
    "                    \n",
    "        errors.append(mean_squared_error(R, np.dot(X, Y)))\n",
    "        \n",
    "        if ii % 10 == 0:\n",
    "            print('iteration %d is completed'%(ii))\n",
    "\n",
    "    R_hat = np.dot(X, Y)\n",
    "    print('Error of rated movies: %.5f'%(mean_squared_error(R, R_hat)))\n",
    "\n",
    "    return(R_hat, errors)"
   ]
  },
  {
   "cell_type": "code",
   "execution_count": 12,
   "metadata": {},
   "outputs": [
    {
     "name": "stdout",
     "output_type": "stream",
     "text": [
      "iteration 0 is completed\n",
      "iteration 10 is completed\n",
      "Error of rated movies: 25.87565\n"
     ]
    }
   ],
   "source": [
    "R_hat, errors= compute_GD(R,20, 1, 0.001, 100)"
   ]
  },
  {
   "cell_type": "code",
   "execution_count": 13,
   "metadata": {},
   "outputs": [
    {
     "name": "stdout",
     "output_type": "stream",
     "text": [
      "iteration 0 is completed\n",
      "iteration 10 is completed\n",
      "iteration 20 is completed\n",
      "iteration 30 is completed\n",
      "Error of rated movies: 17.67970\n"
     ]
    }
   ],
   "source": [
    "R_hat, errors= compute_GD(R,40, 1, 0.001, 100)"
   ]
  },
  {
   "cell_type": "code",
   "execution_count": 14,
   "metadata": {
    "collapsed": true
   },
   "outputs": [],
   "source": [
    "def train_test_split(R, n_test):\n",
    "    train = R.copy()\n",
    "    test = np.zeros(R.shape)\n",
    "    for user in range(R.shape[0]):\n",
    "        test_index = np.random.choice(R[user, :].nonzero()[0], size=n_test, replace=False)\n",
    "        train[user, test_index] = 0.\n",
    "        test[user, test_index] = R[user, test_index]\n",
    "\n",
    "    return (train, test)"
   ]
  },
  {
   "cell_type": "code",
   "execution_count": 15,
   "metadata": {
    "collapsed": true
   },
   "outputs": [],
   "source": [
    "def get_test_mse(true,pred):\n",
    "    pred = pred[true.nonzero()].flatten()\n",
    "    true = true[true.nonzero()].flatten()\n",
    "    return mean_squared_error(true,pred)"
   ]
  },
  {
   "cell_type": "code",
   "execution_count": 16,
   "metadata": {
    "collapsed": true
   },
   "outputs": [],
   "source": [
    "from sklearn.metrics import mean_squared_error\n",
    "import numpy as np\n",
    "\n",
    "def compute_ALS(R, test, n_iter, lambda_, k):\n",
    "    m,n =R.shape\n",
    "    X = np.random.rand(m, k)\n",
    "    Y = np.random.rand(k, n)\n",
    "    errors =[]\n",
    "    # 갱신 시마다 계산한 에러를 저장합니다.\n",
    "    for i in range(0, n_iter):\n",
    "        X = np.linalg.solve(np.dot(Y, Y.T) + lambda_ * np.eye(k),np.dot(Y, R.T)).T\n",
    "        Y = np.linalg.solve(np.dot(X.T, X) + lambda_ * np.eye(k), np.dot(X.T, R))\n",
    "        errors.append(get_test_mse(test,np.dot(X, Y)))\n",
    "\n",
    "        if i % 10 == 0:\n",
    "            print('iteration %d is completed'%(i))\n",
    "    \n",
    "    R_hat = np.dot(X, Y)\n",
    "    print('Error of rated movies: %.5f'%(get_test_mse(test,R_hat)))\n",
    "    return(R_hat, errors)"
   ]
  },
  {
   "cell_type": "code",
   "execution_count": 17,
   "metadata": {
    "collapsed": true
   },
   "outputs": [],
   "source": [
    "train,test = train_test_split(R, 10)"
   ]
  },
  {
   "cell_type": "code",
   "execution_count": 18,
   "metadata": {},
   "outputs": [
    {
     "name": "stdout",
     "output_type": "stream",
     "text": [
      "iteration 0 is completed\n",
      "iteration 10 is completed\n",
      "Error of rated movies: 2.38620\n"
     ]
    }
   ],
   "source": [
    "R_hat, train_errors = compute_ALS(train, train,20, 0.1,100)"
   ]
  },
  {
   "cell_type": "code",
   "execution_count": 19,
   "metadata": {},
   "outputs": [
    {
     "name": "stdout",
     "output_type": "stream",
     "text": [
      "iteration 0 is completed\n",
      "iteration 10 is completed\n",
      "Error of rated movies: 10.02028\n"
     ]
    }
   ],
   "source": [
    "R_hat, test_errors = compute_ALS(train, test,20, 0.1,100)"
   ]
  },
  {
   "cell_type": "code",
   "execution_count": 20,
   "metadata": {},
   "outputs": [
    {
     "data": {
      "image/png": "[encoded data removed]",
      "text/plain": [
       "<matplotlib.figure.Figure at 0x7f31ba97d390>"
      ]
     },
     "metadata": {},
     "output_type": "display_data"
    }
   ],
   "source": [
    "from matplotlib import pyplot as plt\n",
    "\n",
    "x=range(0,20)\n",
    "\n",
    "plt.xlim(0,20) # x축의 표시 범위를 0-20까지 설정(20은 반복 횟수입니다)\n",
    "plt.ylim(0,15) # y축의 표시 범위를 0-15까지 설정\n",
    "plt.xlabel('iteration')\n",
    "plt.ylabel('MSE')\n",
    "plt.xticks(x, range(0,20)) # x축에 표시할 숫자를 0부터 19까지의 정수로 함\n",
    "# 평가 에러를 점선으로 표시\n",
    "test_plot, = plt.plot(x,test_errors, '--', label='test_error')\n",
    "# 학습 에러를 실선으로 표시\n",
    "train_plot, = plt.plot(x,train_errors, label='train_error')\n",
    "plt.legend(handles=[train_plot, test_plot]) # 범례 생성\n",
    "plt.show()"
   ]
  },
  {
   "cell_type": "code",
   "execution_count": 21,
   "metadata": {},
   "outputs": [
    {
     "name": "stdout",
     "output_type": "stream",
     "text": [
      "iteration 0 is completed\n",
      "iteration 10 is completed\n",
      "Error of rated movies: 5.46726\n",
      "iteration 0 is completed\n",
      "iteration 10 is completed\n",
      "Error of rated movies: 9.08380\n"
     ]
    }
   ],
   "source": [
    "R_hat, train_errors = compute_ALS(train, train,20, 50,100)\n",
    "R_hat, test_errors = compute_ALS(train, test,20, 50,100)"
   ]
  },
  {
   "cell_type": "code",
   "execution_count": 22,
   "metadata": {},
   "outputs": [
    {
     "data": {
      "image/png": "[encoded data removed]",
      "text/plain": [
       "<matplotlib.figure.Figure at 0x7f31b9bf2860>"
      ]
     },
     "metadata": {},
     "output_type": "display_data"
    }
   ],
   "source": [
    "plt.clf()\n",
    "from matplotlib import pyplot as plt\n",
    "\n",
    "x=range(0,20)\n",
    "\n",
    "plt.xlim(0,20) # x축의 표시 범위를 0-20까지 설정(20은 반복 횟수입니다)\n",
    "plt.ylim(0,15) # y축의 표시 범위를 0-15까지 설정\n",
    "plt.xlabel('iteration')\n",
    "plt.ylabel('MSE')\n",
    "plt.xticks(x, range(0,20)) # x축에 표시할 숫자를 0부터 19까지의 정수로 함\n",
    "# 평가 에러를 점선으로 표시\n",
    "test_plot, = plt.plot(x,test_errors, '--', label='test_error')\n",
    "# 학습 에러를 실선으로 표시\n",
    "train_plot, = plt.plot(x,train_errors, label='train_error')\n",
    "plt.legend(handles=[train_plot, test_plot]) # 범례 생성\n",
    "plt.show()"
   ]
  },
  {
   "cell_type": "code",
   "execution_count": 23,
   "metadata": {
    "collapsed": true
   },
   "outputs": [],
   "source": [
    "R_hat -= np.min(R_hat)\n",
    "\n",
    "R_hat *= float(5) / np.max(R_hat)\n",
    "\n",
    "def recommend_by_user(user):\n",
    "    user_index = user-1\n",
    "    user_seen_movies = sorted(list(enumerate(R_hat[user_index])),key=lambda x:x[1], reverse=True)\n",
    "    recommended=1\n",
    "    print(\"-----recommendation for user %d------\"%(user))\n",
    "    for movie_info in user_seen_movies:\n",
    "        if W[user][movie_info[0]]==0:\n",
    "            movie_title= movie_info_li[int(movie_info[0]+1)]\n",
    "            movie_score= movie_info[1]\n",
    "            print(\"rank %d recommendation:%s(%.3f)\"%(recommended,movie_title[0], movie_score))\n",
    "            recommended+=1\n",
    "        if recommended==6:\n",
    "            break"
   ]
  },
  {
   "cell_type": "code",
   "execution_count": 25,
   "metadata": {},
   "outputs": [],
   "source": [
    "W = R>0.0\n",
    "W[W == True] = 1\n",
    "W[W == False] = 0\n",
    "W = W.astype(np.float64, copy=False)"
   ]
  },
  {
   "cell_type": "code",
   "execution_count": 26,
   "metadata": {},
   "outputs": [
    {
     "name": "stdout",
     "output_type": "stream",
     "text": [
      "-----recommendation for user 1------\n",
      "rank 1 recommendation:So I Married an Axe Murderer (1993)(3.748)\n",
      "rank 2 recommendation:Wrong Trousers, The (1993)(3.741)\n",
      "rank 3 recommendation:Raiders of the Lost Ark (1981)(3.694)\n",
      "rank 4 recommendation:Priest (1994)(3.621)\n",
      "rank 5 recommendation:Brazil (1985)(3.558)\n"
     ]
    }
   ],
   "source": [
    "recommend_by_user(1)"
   ]
  },
  {
   "cell_type": "code",
   "execution_count": null,
   "metadata": {
    "collapsed": true
   },
   "outputs": [],
   "source": []
  }
 ],
 "metadata": {
  "kernelspec": {
   "display_name": "Python [default]",
   "language": "python",
   "name": "python3"
  },
  "language_info": {
   "codemirror_mode": {
    "name": "ipython",
    "version": 3
   },
   "file_extension": ".py",
   "mimetype": "text/x-python",
   "name": "python",
   "nbconvert_exporter": "python",
   "pygments_lexer": "ipython3",
   "version": "3.5.3"
  }
 },
 "nbformat": 4,
 "nbformat_minor": 2
}
