{
 "cells": [
  {
   "cell_type": "code",
   "execution_count": 16,
   "metadata": {
    "collapsed": true
   },
   "outputs": [],
   "source": [
    "import numpy as np"
   ]
  },
  {
   "cell_type": "code",
   "execution_count": 17,
   "metadata": {
    "collapsed": true
   },
   "outputs": [],
   "source": [
    "def loadDataSet(fileName):      #general function to parse tab -delimited floats\n",
    "    dataMat = []                #assume last column is target value\n",
    "    fr = open(fileName)\n",
    "    for line in fr.readlines():\n",
    "        curLine = line.strip().split('\\t')\n",
    "        fltLine = map(float,curLine) #map all elements to float()\n",
    "        dataMat.append(fltLine)\n",
    "    return np.array(dataMat)\n",
    "\n",
    "def distEclud(a, b):\n",
    "    return np.sqrt(sum(np.power(a - b, 2))) #la.norm(vecA-vecB)\n",
    "\n",
    "def randCent(dataSet, k):\n",
    "    n = shape(dataSet)[1]\n",
    "    centroids = mat(zeros((k,n)))#create centroid mat\n",
    "    for j in range(n):#create random cluster centers, within bounds of each dimension\n",
    "        minJ = min(dataSet[:,j]) \n",
    "        rangeJ = float(max(dataSet[:,j]) - minJ)\n",
    "        centroids[:,j] = mat(minJ + rangeJ * random.rand(k,1))\n",
    "    return centroids"
   ]
  },
  {
   "cell_type": "code",
   "execution_count": 18,
   "metadata": {},
   "outputs": [],
   "source": [
    "test = loadDataSet('testSet.txt')"
   ]
  },
  {
   "cell_type": "code",
   "execution_count": 19,
   "metadata": {},
   "outputs": [
    {
     "data": {
      "text/plain": [
       "array([<map object at 0x7efea6156d30>, <map object at 0x7efea61b8d68>,\n",
       "       <map object at 0x7efea61342b0>, <map object at 0x7efea61343c8>,\n",
       "       <map object at 0x7efea6134080>, <map object at 0x7efea61345c0>,\n",
       "       <map object at 0x7efea6134358>, <map object at 0x7efea6134518>,\n",
       "       <map object at 0x7efea6134160>, <map object at 0x7efea615a898>,\n",
       "       <map object at 0x7efea615a080>, <map object at 0x7efea615a128>,\n",
       "       <map object at 0x7efea615a1d0>, <map object at 0x7efea615a3c8>,\n",
       "       <map object at 0x7efea615a470>, <map object at 0x7efea615a518>,\n",
       "       <map object at 0x7efea615a5c0>, <map object at 0x7efea615a2b0>,\n",
       "       <map object at 0x7efea615a358>, <map object at 0x7efea615a908>,\n",
       "       <map object at 0x7efea615a940>, <map object at 0x7efea615a9e8>,\n",
       "       <map object at 0x7efea615aa90>, <map object at 0x7efea615ab38>,\n",
       "       <map object at 0x7efea615abe0>, <map object at 0x7efea615ac88>,\n",
       "       <map object at 0x7efea615ad30>, <map object at 0x7efea615add8>,\n",
       "       <map object at 0x7efea615ae80>, <map object at 0x7efea615af28>,\n",
       "       <map object at 0x7efea615afd0>, <map object at 0x7efea61610b8>,\n",
       "       <map object at 0x7efea6161160>, <map object at 0x7efea6161208>,\n",
       "       <map object at 0x7efea61612b0>, <map object at 0x7efea6161358>,\n",
       "       <map object at 0x7efea6161400>, <map object at 0x7efea61614a8>,\n",
       "       <map object at 0x7efea6161550>, <map object at 0x7efea61615f8>,\n",
       "       <map object at 0x7efea61616a0>, <map object at 0x7efea6161748>,\n",
       "       <map object at 0x7efea61617f0>, <map object at 0x7efea6161898>,\n",
       "       <map object at 0x7efea6161940>, <map object at 0x7efea61619e8>,\n",
       "       <map object at 0x7efea6161a90>, <map object at 0x7efea6161b38>,\n",
       "       <map object at 0x7efea6161be0>, <map object at 0x7efea6161c88>,\n",
       "       <map object at 0x7efea6161d30>, <map object at 0x7efea6161dd8>,\n",
       "       <map object at 0x7efea6161e80>, <map object at 0x7efea6161f28>,\n",
       "       <map object at 0x7efea6161fd0>, <map object at 0x7efea615c0b8>,\n",
       "       <map object at 0x7efea615c160>, <map object at 0x7efea615c208>,\n",
       "       <map object at 0x7efea615c2b0>, <map object at 0x7efea615c358>,\n",
       "       <map object at 0x7efea615c400>, <map object at 0x7efea615c4a8>,\n",
       "       <map object at 0x7efea615c550>, <map object at 0x7efea615c5f8>,\n",
       "       <map object at 0x7efea615c6a0>, <map object at 0x7efea615c748>,\n",
       "       <map object at 0x7efea615c7f0>, <map object at 0x7efea615c898>,\n",
       "       <map object at 0x7efea615c940>, <map object at 0x7efea615c9e8>,\n",
       "       <map object at 0x7efea615ca90>, <map object at 0x7efea615cb38>,\n",
       "       <map object at 0x7efea615cbe0>, <map object at 0x7efea615cc88>,\n",
       "       <map object at 0x7efea615cd30>, <map object at 0x7efea615cdd8>,\n",
       "       <map object at 0x7efea615ce80>, <map object at 0x7efea615cf28>,\n",
       "       <map object at 0x7efea615cfd0>, <map object at 0x7efea60e60b8>], dtype=object)"
      ]
     },
     "execution_count": 19,
     "metadata": {},
     "output_type": "execute_result"
    }
   ],
   "source": [
    "test"
   ]
  },
  {
   "cell_type": "code",
   "execution_count": null,
   "metadata": {
    "collapsed": true
   },
   "outputs": [],
   "source": []
  }
 ],
 "metadata": {
  "kernelspec": {
   "display_name": "Python [conda root]",
   "language": "python",
   "name": "conda-root-py"
  },
  "language_info": {
   "codemirror_mode": {
    "name": "ipython",
    "version": 3
   },
   "file_extension": ".py",
   "mimetype": "text/x-python",
   "name": "python",
   "nbconvert_exporter": "python",
   "pygments_lexer": "ipython3",
   "version": "3.5.3"
  }
 },
 "nbformat": 4,
 "nbformat_minor": 2
}
