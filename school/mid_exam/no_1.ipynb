{
 "cells": [
  {
   "cell_type": "markdown",
   "metadata": {},
   "source": [
    "# Number 1"
   ]
  },
  {
   "cell_type": "markdown",
   "metadata": {},
   "source": [
    "X=0, X1 = 1/2 (X0 + a/X0)\n",
    "X=1, X2 = 1/2 (X1 + a/X1)\n",
    "X=2, X3 = 1/2 (X2 + a/X2)"
   ]
  },
  {
   "cell_type": "code",
   "execution_count": 21,
   "metadata": {},
   "outputs": [
    {
     "name": "stdout",
     "output_type": "stream",
     "text": [
      "index:  0 , value:  50000.5\n",
      "index:  1 , value:  25001.2499900001\n",
      "index:  2 , value:  12502.624895005849\n",
      "index:  3 , value:  6255.311607712872\n",
      "index:  4 , value:  3135.6490107717154\n",
      "index:  5 , value:  1583.7701676166232\n",
      "index:  6 , value:  823.455321095483\n",
      "index:  7 , value:  472.4474090502863\n",
      "index:  8 , value:  342.0555898147884\n",
      "index:  9 , value:  317.2028655357483\n",
      "index:  10 , value:  316.22926477232704\n"
     ]
    }
   ],
   "source": [
    "total = 0 #X(K+1)\n",
    "x_zero=1 #X0\n",
    "a=100000 #random a\n",
    "\n",
    "for k in range(11):\n",
    "    if (k == 0): #if X0 = 1\n",
    "        total = total + (0.5 * (x_zero + a))\n",
    "    else :\n",
    "        total = 0.5 * (total + a/total)\n",
    "    \n",
    "    print ('index: ', k, ', value: ', total)\n",
    "\n",
    "#print (total)"
   ]
  },
  {
   "cell_type": "code",
   "execution_count": null,
   "metadata": {
    "collapsed": true
   },
   "outputs": [],
   "source": []
  }
 ],
 "metadata": {
  "kernelspec": {
   "display_name": "Python [conda root]",
   "language": "python",
   "name": "conda-root-py"
  },
  "language_info": {
   "codemirror_mode": {
    "name": "ipython",
    "version": 3
   },
   "file_extension": ".py",
   "mimetype": "text/x-python",
   "name": "python",
   "nbconvert_exporter": "python",
   "pygments_lexer": "ipython3",
   "version": "3.5.3"
  }
 },
 "nbformat": 4,
 "nbformat_minor": 2
}
